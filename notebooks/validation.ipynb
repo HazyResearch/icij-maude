{
 "cells": [
  {
   "cell_type": "markdown",
   "metadata": {},
   "source": [
    "# Spot Check Model Labels"
   ]
  },
  {
   "cell_type": "code",
   "execution_count": null,
   "metadata": {},
   "outputs": [],
   "source": [
    "%load_ext autoreload\n",
    "%autoreload 2\n",
    "%matplotlib inline\n",
    "\n",
    "import sys\n",
    "sys.path.insert(0,'../../icij/')\n",
    "\n",
    "import glob\n",
    "import collections\n",
    "import numpy as np\n",
    "import pandas as pd\n",
    "from maude import MaudeReport"
   ]
  },
  {
   "cell_type": "markdown",
   "metadata": {},
   "source": [
    "## 1. Load MAUDE Records"
   ]
  },
  {
   "cell_type": "code",
   "execution_count": null,
   "metadata": {},
   "outputs": [],
   "source": [
    "\n",
    "fpath = '/Users/fries/MaudeFullSUBSET.tsv'\n",
    "\n",
    "records = {}\n",
    "chunksize = 10000\n",
    "for i, chunk in enumerate(pd.read_csv(fpath, sep='\\t', quotechar='\"', chunksize=chunksize)):\n",
    "    for j, row in chunk.iterrows():\n",
    "        doc = MaudeReport(row,j)\n",
    "        records[doc.key] = doc\n",
    "    break\n",
    "    \n",
    "print(len(records))"
   ]
  },
  {
   "cell_type": "markdown",
   "metadata": {},
   "source": [
    "## 2. Load Record Predictions"
   ]
  },
  {
   "cell_type": "code",
   "execution_count": null,
   "metadata": {},
   "outputs": [],
   "source": [
    "# load predictions\n",
    "y_pred = pd.read_csv('/Users/fries/gender/0.mv.num_lfs_38.tsv', sep='\\t', quotechar='\"')\n",
    "\n",
    "errs = 0\n",
    "class_samples = collections.defaultdict(list)\n",
    "for i,row in y_pred.iterrows():\n",
    "    key = (\n",
    "        row.MDR_REPORT_KEY,\n",
    "        row.MDR_TEXT_KEY,\n",
    "        row.PATIENT_SEQUENCE_NUMBER,\n",
    "        row.foi_text_md5\n",
    "    )\n",
    "    if i > len(records):\n",
    "        break\n",
    "    if key not in records:\n",
    "        errs += 1\n",
    "        continue\n",
    "        \n",
    "    class_samples[row.Y_PRED].append(records[key])\n",
    "    \n",
    "print(f'Errors {errs}')\n",
    "for y in class_samples:\n",
    "    print(y,len(class_samples[y]))\n"
   ]
  },
  {
   "cell_type": "markdown",
   "metadata": {},
   "source": [
    "## 3. Validate Subsample"
   ]
  },
  {
   "cell_type": "code",
   "execution_count": null,
   "metadata": {},
   "outputs": [],
   "source": [
    "np.random.seed(1234)\n",
    "np.random.shuffle(class_samples[1])\n",
    "np.random.shuffle(class_samples[2])\n",
    "np.random.shuffle(class_samples[3])"
   ]
  },
  {
   "cell_type": "code",
   "execution_count": null,
   "metadata": {},
   "outputs": [],
   "source": [
    "num_samples = 10\n",
    "\n",
    "for i, doc in enumerate(class_samples[1]):\n",
    "    print(f'Y_PRED: MALE')\n",
    "    print(doc.foi_text)\n",
    "    print('='* 50)\n",
    "    if i >= num_samples - 1:\n",
    "          break\n",
    "    "
   ]
  },
  {
   "cell_type": "code",
   "execution_count": null,
   "metadata": {},
   "outputs": [],
   "source": [
    "num_samples = 10\n",
    "\n",
    "for i, doc in enumerate(class_samples[2]):\n",
    "    print(f'Y_PRED: FEMALE')\n",
    "    print(doc.foi_text)\n",
    "    print('='* 50)\n",
    "    if i >= num_samples - 1:\n",
    "          break\n",
    "    "
   ]
  },
  {
   "cell_type": "code",
   "execution_count": null,
   "metadata": {},
   "outputs": [],
   "source": []
  }
 ],
 "metadata": {
  "kernelspec": {
   "display_name": "Python 3.6.7 (bert)",
   "language": "python",
   "name": "bert"
  },
  "language_info": {
   "codemirror_mode": {
    "name": "ipython",
    "version": 3
   },
   "file_extension": ".py",
   "mimetype": "text/x-python",
   "name": "python",
   "nbconvert_exporter": "python",
   "pygments_lexer": "ipython3",
   "version": "3.6.7"
  }
 },
 "nbformat": 4,
 "nbformat_minor": 2
}
